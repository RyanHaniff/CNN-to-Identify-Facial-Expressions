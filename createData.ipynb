{
 "cells": [
  {
   "cell_type": "code",
   "execution_count": 1,
   "metadata": {},
   "outputs": [],
   "source": [
    "import cv2\n",
    "import imutils\n",
    "import os\n",
    "import math\n",
    "\n"
   ]
  },
  {
   "cell_type": "code",
   "execution_count": 2,
   "metadata": {},
   "outputs": [],
   "source": [
    "path = \"D:\\Concordia\\COMP473\\COMP_473_Project\\TestSet1\\\\anger\"\n",
    "newpath = \"D:\\Concordia\\COMP473\\COMP_473_Project\\TestSet1\\\\anger-new\""
   ]
  },
  {
   "cell_type": "code",
   "execution_count": 6,
   "metadata": {},
   "outputs": [
    {
     "name": "stdout",
     "output_type": "stream",
     "text": [
      "['S126_008_00000027.png', 'S126_008_00000028.png', 'S126_008_00000029.png', 'S127_010_00000016.png', 'S127_010_00000017.png', 'S127_010_00000018.png', 'S129_006_00000008.png', 'S129_006_00000009.png', 'S129_006_00000010.png', 'S130_007_00000018.png', 'S130_007_00000019.png', 'S130_007_00000020.png', 'S133_003_00000045.png', 'S133_003_00000046.png', 'S133_003_00000047.png', 'S134_003_00000009.png', 'S134_003_00000010.png', 'S134_003_00000011.png', 'S136_005_00000008.png', 'S136_005_00000009.png', 'S136_005_00000010.png', 'S501_001_00000065.png', 'S501_001_00000066.png', 'S501_001_00000067.png', 'S502_001_00000014.png', 'S502_001_00000015.png', 'S502_001_00000016.png', 'S503_001_00000069.png', 'S503_001_00000070.png', 'S503_001_00000071.png', 'S504_001_00000020.png', 'S504_001_00000021.png', 'S504_001_00000022.png', 'S506_001_00000038.png', 'S506_001_00000039.png', 'S506_001_00000040.png', 'S999_001_00000016.png', 'S999_001_00000017.png', 'S999_001_00000018.png']\n"
     ]
    }
   ],
   "source": [
    "imgfiles = os.listdir(path)\n",
    "print(imgfiles)\n",
    "\n",
    "#rotation\n",
    "\n",
    "rot_angle = [-10, -5, 0, 5, 10]\n",
    "result = []\n",
    "for file in imgfiles:\n",
    "    img = cv2.imread(path+\"\\\\\"+file)\n",
    "    for a in rot_angle:\n",
    "        imgr = imutils.rotate(img, angle=a)\n",
    "        result+=[imgr]\n",
    "# print(len(result))\n",
    "count = 0\n",
    "for j in range(len(result)):\n",
    "    img = result[j]\n",
    "    i = math.floor(j/5)\n",
    "    x = imgfiles[i].split(\".\")\n",
    "    k = (j-(i*5))\n",
    "    if k == 0:\n",
    "        newName = x[0] + 'n1'+'.png'\n",
    "    elif k == 1:\n",
    "        newName = x[0] + 'n2'+'.png'\n",
    "    elif k == 2:\n",
    "        newName = x[0] + 'n3'+'.png'\n",
    "    elif k == 3:\n",
    "        newName = x[0] + 'n4'+'.png'\n",
    "    elif k == 4:\n",
    "        newName = x[0] + 'n5'+'.png'\n",
    "    cv2.imwrite(os.path.join(newpath , newName), img)\n",
    " "
   ]
  }
 ],
 "metadata": {
  "kernelspec": {
   "display_name": "Python 3.10.0 64-bit",
   "language": "python",
   "name": "python3"
  },
  "language_info": {
   "codemirror_mode": {
    "name": "ipython",
    "version": 3
   },
   "file_extension": ".py",
   "mimetype": "text/x-python",
   "name": "python",
   "nbconvert_exporter": "python",
   "pygments_lexer": "ipython3",
   "version": "3.10.0"
  },
  "orig_nbformat": 4,
  "vscode": {
   "interpreter": {
    "hash": "41a25e4fc04ae1ac97e89ed19feb20c86178bc3aba5c26b45b17fff7270b24df"
   }
  }
 },
 "nbformat": 4,
 "nbformat_minor": 2
}
