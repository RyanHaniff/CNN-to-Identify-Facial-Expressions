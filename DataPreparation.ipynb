{
 "cells": [
  {
   "attachments": {},
   "cell_type": "markdown",
   "metadata": {},
   "source": [
    "### Dataset Preparation and Image Pre-Processing\n",
    "\n",
    "\n",
    "#### Data Augmentation\n",
    "\n",
    "Rotate each image in 70 different angles from -10.5º to 10.5º\n"
   ]
  },
  {
   "cell_type": "code",
   "execution_count": 1,
   "metadata": {},
   "outputs": [
    {
     "name": "stdout",
     "output_type": "stream",
     "text": [
      "415\n",
      "29050\n"
     ]
    }
   ],
   "source": [
    "import cv2\n",
    "import imutils\n",
    "import os\n",
    "import math\n",
    "\n",
    "# change the path to the directory where the augmented data is retrieved and saved\n",
    "\n",
    "path = \"D:/Concordia/COMP473/CK+/CK+_Complete/surprise\"\n",
    "\n",
    "imgfiles = os.listdir(path)\n",
    "\n",
    "# rotating images from -10.5º to 10.5º degree from the original position\n",
    "start = -10.5\n",
    "step = 0.3\n",
    "myRange = []\n",
    "for i in range(71):\n",
    "  myRange.append(round(start+(i*step),2))\n",
    "myRange.remove(0.0)\n",
    "\n",
    "result = []\n",
    "for file in imgfiles:\n",
    "    img = cv2.imread(path+\"/\"+file)\n",
    "    for a in myRange:\n",
    "        imgr = imutils.rotate(img, angle=a)\n",
    "        result+=[imgr]\n",
    "\n",
    "# to ensure the augmentation is done properly\n",
    "print(len(imgfiles))\n",
    "print(len(result))\n",
    "\n",
    "count = 0\n",
    "for j in range(len(result)):\n",
    "  if(count == len(myRange)):\n",
    "    count = 0\n",
    "\n",
    "  img = result[j]\n",
    "  i = math.floor(j/(len(myRange)))\n",
    "  x = imgfiles[i].split(\".\")\n",
    "  newName = x[0] + str(myRange[count]) + '.png'\n",
    "  cv2.imwrite(os.path.join(path , newName), img)\n",
    "  count+=1"
   ]
  },
  {
   "attachments": {},
   "cell_type": "markdown",
   "metadata": {},
   "source": [
    "#### Preparing dataset for cross-validation\n",
    "3 Different Datasets for Cross-Validation:\n",
    "<br>Each dataset contains different set of images in training and testing for cross-validtion purposes\n",
    "<br>The ratio of the split is the same for all datasets\n",
    "<br>\n",
    "<br>\n",
    "Data split:\n",
    "<li> 80% of total data as Training set (64% of total as Training and 16% as Validation set)\n",
    "<li> 20% of total data as Testing set\n"
   ]
  },
  {
   "cell_type": "code",
   "execution_count": 2,
   "metadata": {},
   "outputs": [],
   "source": [
    "#import necessary libraries\n",
    "import splitfolders\n",
    "import random"
   ]
  },
  {
   "cell_type": "code",
   "execution_count": 3,
   "metadata": {},
   "outputs": [
    {
     "name": "stderr",
     "output_type": "stream",
     "text": [
      "Copying files: 17732 files [25:22,  6.18 files/s]"
     ]
    },
    {
     "ename": "KeyboardInterrupt",
     "evalue": "",
     "output_type": "error",
     "traceback": [
      "\u001b[1;31m---------------------------------------------------------------------------\u001b[0m",
      "\u001b[1;31mKeyboardInterrupt\u001b[0m                         Traceback (most recent call last)",
      "Cell \u001b[1;32mIn [3], line 10\u001b[0m\n\u001b[0;32m      1\u001b[0m \u001b[39m# Split with a ratio of (.64, .16, .2) for training, validation, and test sets\u001b[39;00m\n\u001b[0;32m      2\u001b[0m \u001b[39m# Seed is determined randomly to ensure each dataset contains different collection of images in test sets\u001b[39;00m\n\u001b[0;32m      3\u001b[0m \u001b[39m# Destination directory name is FER_2013_Augmented, because the data augmentation will be done directly to each datasets later\u001b[39;00m\n\u001b[1;32m   (...)\u001b[0m\n\u001b[0;32m      8\u001b[0m \n\u001b[0;32m      9\u001b[0m \u001b[39m#Dataset 1\u001b[39;00m\n\u001b[1;32m---> 10\u001b[0m splitfolders\u001b[39m.\u001b[39;49mratio(\u001b[39m'\u001b[39;49m\u001b[39mD:\u001b[39;49m\u001b[39m\\\u001b[39;49m\u001b[39mConcordia\u001b[39;49m\u001b[39m\\\u001b[39;49m\u001b[39mCOMP473\u001b[39;49m\u001b[39m\\\u001b[39;49m\u001b[39mCK+\u001b[39;49m\u001b[39m\\\u001b[39;49m\u001b[39mCK+_Complete\u001b[39;49m\u001b[39m'\u001b[39;49m, output\u001b[39m=\u001b[39;49m\u001b[39m'\u001b[39;49m\u001b[39mD:\u001b[39;49m\u001b[39m\\\u001b[39;49m\u001b[39mConcordia\u001b[39;49m\u001b[39m\\\u001b[39;49m\u001b[39mCOMP473\u001b[39;49m\u001b[39m\\\u001b[39;49m\u001b[39mCK+\u001b[39;49m\u001b[39m\\\u001b[39;49m\u001b[39mCKD1\u001b[39;49m\u001b[39m'\u001b[39;49m,\n\u001b[0;32m     11\u001b[0m                    seed\u001b[39m=\u001b[39;49mrandom\u001b[39m.\u001b[39;49mseed(\u001b[39m10\u001b[39;49m), ratio\u001b[39m=\u001b[39;49m(\u001b[39m.64\u001b[39;49m, \u001b[39m.16\u001b[39;49m, \u001b[39m.20\u001b[39;49m), group_prefix\u001b[39m=\u001b[39;49m\u001b[39mNone\u001b[39;49;00m, move\u001b[39m=\u001b[39;49m\u001b[39mFalse\u001b[39;49;00m) \n\u001b[0;32m     13\u001b[0m \u001b[39m#Dataset 2\u001b[39;00m\n\u001b[0;32m     14\u001b[0m splitfolders\u001b[39m.\u001b[39mratio(\u001b[39m'\u001b[39m\u001b[39mD:\u001b[39m\u001b[39m\\\u001b[39m\u001b[39mConcordia\u001b[39m\u001b[39m\\\u001b[39m\u001b[39mCOMP473\u001b[39m\u001b[39m\\\u001b[39m\u001b[39mCK+\u001b[39m\u001b[39m\\\u001b[39m\u001b[39mCK+_Complete\u001b[39m\u001b[39m'\u001b[39m, output\u001b[39m=\u001b[39m\u001b[39m'\u001b[39m\u001b[39mD:\u001b[39m\u001b[39m\\\u001b[39m\u001b[39mConcordia\u001b[39m\u001b[39m\\\u001b[39m\u001b[39mCOMP473\u001b[39m\u001b[39m\\\u001b[39m\u001b[39mCK+\u001b[39m\u001b[39m\\\u001b[39m\u001b[39mCKD2\u001b[39m\u001b[39m'\u001b[39m,\n\u001b[0;32m     15\u001b[0m                    seed\u001b[39m=\u001b[39mrandom\u001b[39m.\u001b[39mseed(\u001b[39m10\u001b[39m), ratio\u001b[39m=\u001b[39m(\u001b[39m.64\u001b[39m, \u001b[39m.16\u001b[39m, \u001b[39m.20\u001b[39m), group_prefix\u001b[39m=\u001b[39m\u001b[39mNone\u001b[39;00m, move\u001b[39m=\u001b[39m\u001b[39mFalse\u001b[39;00m) \n",
      "File \u001b[1;32mc:\\Users\\phael\\AppData\\Local\\Programs\\Python\\Python310\\lib\\site-packages\\splitfolders\\split.py:87\u001b[0m, in \u001b[0;36mratio\u001b[1;34m(input, output, seed, ratio, group_prefix, move)\u001b[0m\n\u001b[0;32m     84\u001b[0m     prog_bar \u001b[39m=\u001b[39m tqdm(desc\u001b[39m=\u001b[39m\u001b[39mf\u001b[39m\u001b[39m\"\u001b[39m\u001b[39mCopying files\u001b[39m\u001b[39m\"\u001b[39m, unit\u001b[39m=\u001b[39m\u001b[39m\"\u001b[39m\u001b[39m files\u001b[39m\u001b[39m\"\u001b[39m)\n\u001b[0;32m     86\u001b[0m \u001b[39mfor\u001b[39;00m class_dir \u001b[39min\u001b[39;00m list_dirs(\u001b[39minput\u001b[39m):\n\u001b[1;32m---> 87\u001b[0m     split_class_dir_ratio(\n\u001b[0;32m     88\u001b[0m         class_dir,\n\u001b[0;32m     89\u001b[0m         output,\n\u001b[0;32m     90\u001b[0m         ratio,\n\u001b[0;32m     91\u001b[0m         seed,\n\u001b[0;32m     92\u001b[0m         prog_bar \u001b[39mif\u001b[39;49;00m use_tqdm \u001b[39melse\u001b[39;49;00m \u001b[39mNone\u001b[39;49;00m,\n\u001b[0;32m     93\u001b[0m         group_prefix,\n\u001b[0;32m     94\u001b[0m         move,\n\u001b[0;32m     95\u001b[0m     )\n\u001b[0;32m     97\u001b[0m \u001b[39mif\u001b[39;00m use_tqdm:\n\u001b[0;32m     98\u001b[0m     prog_bar\u001b[39m.\u001b[39mclose()\n",
      "File \u001b[1;32mc:\\Users\\phael\\AppData\\Local\\Programs\\Python\\Python310\\lib\\site-packages\\splitfolders\\split.py:240\u001b[0m, in \u001b[0;36msplit_class_dir_ratio\u001b[1;34m(class_dir, output, ratio, seed, prog_bar, group_prefix, move)\u001b[0m\n\u001b[0;32m    237\u001b[0m split_val_idx \u001b[39m=\u001b[39m split_train_idx \u001b[39m+\u001b[39m \u001b[39mint\u001b[39m(ratio[\u001b[39m1\u001b[39m] \u001b[39m*\u001b[39m \u001b[39mlen\u001b[39m(files))\n\u001b[0;32m    239\u001b[0m li \u001b[39m=\u001b[39m split_files(files, split_train_idx, split_val_idx, \u001b[39mlen\u001b[39m(ratio) \u001b[39m==\u001b[39m \u001b[39m3\u001b[39m)\n\u001b[1;32m--> 240\u001b[0m copy_files(li, class_dir, output, prog_bar, move)\n",
      "File \u001b[1;32mc:\\Users\\phael\\AppData\\Local\\Programs\\Python\\Python310\\lib\\site-packages\\splitfolders\\split.py:314\u001b[0m, in \u001b[0;36mcopy_files\u001b[1;34m(files_type, class_dir, output, prog_bar, move)\u001b[0m\n\u001b[0;32m    312\u001b[0m         copy_fun(\u001b[39mstr\u001b[39m(x), \u001b[39mstr\u001b[39m(full_path))\n\u001b[0;32m    313\u001b[0m \u001b[39melse\u001b[39;00m:\n\u001b[1;32m--> 314\u001b[0m     copy_fun(\u001b[39mstr\u001b[39;49m(f), \u001b[39mstr\u001b[39;49m(full_path))\n",
      "File \u001b[1;32mc:\\Users\\phael\\AppData\\Local\\Programs\\Python\\Python310\\lib\\shutil.py:434\u001b[0m, in \u001b[0;36mcopy2\u001b[1;34m(src, dst, follow_symlinks)\u001b[0m\n\u001b[0;32m    432\u001b[0m \u001b[39mif\u001b[39;00m os\u001b[39m.\u001b[39mpath\u001b[39m.\u001b[39misdir(dst):\n\u001b[0;32m    433\u001b[0m     dst \u001b[39m=\u001b[39m os\u001b[39m.\u001b[39mpath\u001b[39m.\u001b[39mjoin(dst, os\u001b[39m.\u001b[39mpath\u001b[39m.\u001b[39mbasename(src))\n\u001b[1;32m--> 434\u001b[0m copyfile(src, dst, follow_symlinks\u001b[39m=\u001b[39;49mfollow_symlinks)\n\u001b[0;32m    435\u001b[0m copystat(src, dst, follow_symlinks\u001b[39m=\u001b[39mfollow_symlinks)\n\u001b[0;32m    436\u001b[0m \u001b[39mreturn\u001b[39;00m dst\n",
      "File \u001b[1;32mc:\\Users\\phael\\AppData\\Local\\Programs\\Python\\Python310\\lib\\shutil.py:274\u001b[0m, in \u001b[0;36mcopyfile\u001b[1;34m(src, dst, follow_symlinks)\u001b[0m\n\u001b[0;32m    271\u001b[0m \u001b[39m# Windows, see:\u001b[39;00m\n\u001b[0;32m    272\u001b[0m \u001b[39m# https://github.com/python/cpython/pull/7160#discussion_r195405230\u001b[39;00m\n\u001b[0;32m    273\u001b[0m \u001b[39melif\u001b[39;00m _WINDOWS \u001b[39mand\u001b[39;00m file_size \u001b[39m>\u001b[39m \u001b[39m0\u001b[39m:\n\u001b[1;32m--> 274\u001b[0m     _copyfileobj_readinto(fsrc, fdst, \u001b[39mmin\u001b[39;49m(file_size, COPY_BUFSIZE))\n\u001b[0;32m    275\u001b[0m     \u001b[39mreturn\u001b[39;00m dst\n\u001b[0;32m    277\u001b[0m copyfileobj(fsrc, fdst)\n",
      "File \u001b[1;32mc:\\Users\\phael\\AppData\\Local\\Programs\\Python\\Python310\\lib\\shutil.py:178\u001b[0m, in \u001b[0;36m_copyfileobj_readinto\u001b[1;34m(fsrc, fdst, length)\u001b[0m\n\u001b[0;32m    176\u001b[0m \u001b[39mwith\u001b[39;00m \u001b[39mmemoryview\u001b[39m(\u001b[39mbytearray\u001b[39m(length)) \u001b[39mas\u001b[39;00m mv:\n\u001b[0;32m    177\u001b[0m     \u001b[39mwhile\u001b[39;00m \u001b[39mTrue\u001b[39;00m:\n\u001b[1;32m--> 178\u001b[0m         n \u001b[39m=\u001b[39m fsrc_readinto(mv)\n\u001b[0;32m    179\u001b[0m         \u001b[39mif\u001b[39;00m \u001b[39mnot\u001b[39;00m n:\n\u001b[0;32m    180\u001b[0m             \u001b[39mbreak\u001b[39;00m\n",
      "\u001b[1;31mKeyboardInterrupt\u001b[0m: "
     ]
    }
   ],
   "source": [
    "# Split with a ratio of (.64, .16, .2) for training, validation, and test sets\n",
    "# Seed is determined randomly to ensure each dataset contains different collection of images in test sets\n",
    "# Destination directory name is FER_2013_Augmented, because the data augmentation will be done directly to each datasets later\n",
    "\n",
    "# change the path names in the following line of code to split and save data\n",
    "#splitfolders.ratio('Path of the Original Directory', output='Path of Destination Directory', \n",
    "#                   seed=random.seed(10), ratio=(.64, .16, .20), group_prefix=None, move=False) \n",
    "\n",
    "#Dataset 1\n",
    "splitfolders.ratio('D:\\Concordia\\COMP473\\CK+\\CK+_Complete', output='D:\\Concordia\\COMP473\\CK+\\CKD1',\n",
    "                   seed=random.seed(10), ratio=(.64, .16, .20), group_prefix=None, move=False) \n",
    "\n",
    "#Dataset 2\n",
    "splitfolders.ratio('D:\\Concordia\\COMP473\\CK+\\CK+_Complete', output='D:\\Concordia\\COMP473\\CK+\\CKD2',\n",
    "                   seed=random.seed(10), ratio=(.64, .16, .20), group_prefix=None, move=False) \n",
    "\n",
    "#Dataset 3\n",
    "splitfolders.ratio('D:\\Concordia\\COMP473\\CK+\\CK+_Complete', output='D:\\Concordia\\COMP473\\CK+\\CKD3',\n",
    "                   seed=random.seed(10), ratio=(.64, .16, .20), group_prefix=None, move=False) "
   ]
  },
  {
   "cell_type": "markdown",
   "metadata": {},
   "source": [
    "#### Data Augmentation\n",
    "\n",
    "Rotate each image to angles between -80° and 80° to create 12 additional images."
   ]
  },
  {
   "cell_type": "code",
   "execution_count": 2,
   "metadata": {},
   "outputs": [],
   "source": [
    "import cv2\n",
    "import imutils\n",
    "import os\n",
    "import math"
   ]
  },
  {
   "cell_type": "code",
   "execution_count": 6,
   "metadata": {},
   "outputs": [
    {
     "name": "stdout",
     "output_type": "stream",
     "text": [
      "1799\n",
      "21588\n"
     ]
    }
   ],
   "source": [
    "# change the path to the directory where the augmented data is retrieved and saved\n",
    "\n",
    "path = \"PATH TO THE DIRECTORY OF YOUR IMAGE FILES\"\n",
    "\n",
    "imgfiles = os.listdir(path)\n",
    "\n",
    "# rotating images from -80 to 80 degree from the original position\n",
    "rot_angle = [-80, -65, -50, -35, -20, -5, 5, 20, 35, 50, 65, 80]\n",
    "result = []\n",
    "for file in imgfiles:\n",
    "    img = cv2.imread(path+\"\\\\\"+file)\n",
    "    for a in rot_angle:\n",
    "        imgr = imutils.rotate(img, angle=a)\n",
    "        result+=[imgr]\n",
    "\n",
    "# to ensure the augmentation is done properly\n",
    "print(len(imgfiles))\n",
    "print(len(result))\n",
    "\n",
    "for j in range(len(result)):\n",
    "    img = result[j]\n",
    "    i = math.floor(j/12)\n",
    "    x = imgfiles[i].split(\".\")\n",
    "    k = (j-(i*12))\n",
    "    if k == 0:\n",
    "        newName = x[0] + 'n0'+'.png'\n",
    "    elif k == 1:\n",
    "        newName = x[0] + 'n1'+'.png'\n",
    "    elif k == 2:\n",
    "        newName = x[0] + 'n2'+'.png'\n",
    "    elif k == 3:\n",
    "        newName = x[0] + 'n3'+'.png'\n",
    "    elif k == 4:\n",
    "        newName = x[0] + 'n4'+'.png'\n",
    "    elif k == 5:\n",
    "        newName = x[0] + 'n5'+'.png'\n",
    "    elif k == 6:\n",
    "        newName = x[0] + 'n6'+'.png'\n",
    "    elif k == 7:\n",
    "        newName = x[0] + 'n7'+'.png'\n",
    "    elif k == 8:\n",
    "        newName = x[0] + 'n8'+'.png'\n",
    "    elif k == 9:\n",
    "        newName = x[0] + 'n9'+'.png'\n",
    "    elif k == 10:\n",
    "        newName = x[0] + 'n10'+'.png'\n",
    "    elif k == 11:\n",
    "        newName = x[0] + 'n11'+'.png'\n",
    "    cv2.imwrite(os.path.join(path , newName), img)"
   ]
  },
  {
   "cell_type": "markdown",
   "metadata": {},
   "source": [
    "#### Pre-Processing: Image Cropping\n",
    "\n",
    "Details about image cropping..."
   ]
  },
  {
   "cell_type": "code",
   "execution_count": 13,
   "metadata": {},
   "outputs": [],
   "source": [
    "import cv2\n",
    "import numpy as np\n",
    "import os\n",
    "import matplotlib.pyplot as plt"
   ]
  },
  {
   "cell_type": "code",
   "execution_count": 31,
   "metadata": {},
   "outputs": [
    {
     "data": {
      "image/png": "[encoded data removed]",
      "text/plain": [
       "<Figure size 640x480 with 1 Axes>"
      ]
     },
     "metadata": {},
     "output_type": "display_data"
    },
    {
     "data": {
      "image/png": "[encoded data removed]",
      "text/plain": [
       "<Figure size 640x480 with 1 Axes>"
      ]
     },
     "metadata": {},
     "output_type": "display_data"
    },
    {
     "data": {
      "image/png": "[encoded data removed]",
      "text/plain": [
       "<Figure size 640x480 with 1 Axes>"
      ]
     },
     "metadata": {},
     "output_type": "display_data"
    },
    {
     "data": {
      "image/png": "[encoded data removed]",
      "text/plain": [
       "<Figure size 640x480 with 1 Axes>"
      ]
     },
     "metadata": {},
     "output_type": "display_data"
    },
    {
     "data": {
      "image/png": "[encoded data removed]",
      "text/plain": [
       "<Figure size 640x480 with 1 Axes>"
      ]
     },
     "metadata": {},
     "output_type": "display_data"
    },
    {
     "data": {
      "image/png": "[encoded data removed]",
      "text/plain": [
       "<Figure size 640x480 with 1 Axes>"
      ]
     },
     "metadata": {},
     "output_type": "display_data"
    }
   ],
   "source": [
    "image = cv2.imread('D:/Concordia/COMP473/files/FER_2013_DataSet/FER_2013_Agumented3/train/angry/PrivateTest_2328297n0.png')\n",
    "imgc = image[8:38, 5:38]\n",
    "plt.subplot(1, 7, 1)\n",
    "plt.imshow(imgc.astype('uint8'))\n",
    "plt.show()\n",
    "\n",
    "\n",
    "image = cv2.imread('D:/Concordia/COMP473/files/FER_2013_DataSet/FER_2013_Agumented3/train/angry/PrivateTest_2328297n1.png')\n",
    "imgc = image[8:38, 5:38]\n",
    "plt.subplot(1, 7, 1)\n",
    "plt.imshow(imgc.astype('uint8'))\n",
    "plt.show()\n",
    "\n",
    "image = cv2.imread('D:/Concordia/COMP473/files/FER_2013_DataSet/FER_2013_Agumented3/train/angry/PrivateTest_2328297n2.png')\n",
    "imgc = image[8:38, 5:38]\n",
    "plt.subplot(1, 7, 1)\n",
    "plt.imshow(imgc.astype('uint8'))\n",
    "plt.show()\n",
    "\n",
    "image = cv2.imread('D:/Concordia/COMP473/files/FER_2013_DataSet/FER_2013_Agumented3/train/angry/PrivateTest_2328297n3.png')\n",
    "imgc = image[8:38, 5:38]\n",
    "plt.subplot(1, 7, 1)\n",
    "plt.imshow(imgc.astype('uint8'))\n",
    "plt.show()\n",
    "\n",
    "image = cv2.imread('D:/Concordia/COMP473/files/FER_2013_DataSet/FER_2013_Agumented3/train/angry/PrivateTest_2328297n6.png')\n",
    "imgc = image[8:38, 5:38]\n",
    "plt.subplot(1, 7, 1)\n",
    "plt.imshow(imgc.astype('uint8'))\n",
    "plt.show()\n",
    "\n",
    "image = cv2.imread('D:/Concordia/COMP473/files/FER_2013_DataSet/FER_2013_Agumented3/train/angry/PrivateTest_2328297n9.png')\n",
    "imgc = image[8:38, 5:38]\n",
    "plt.subplot(1, 7, 1)\n",
    "plt.imshow(imgc.astype('uint8'))\n",
    "plt.show()"
   ]
  },
  {
   "cell_type": "markdown",
   "metadata": {},
   "source": [
    "#### Pre-Processing: intensity normalization \n",
    "\n",
    "Details about intensity normalization\n"
   ]
  },
  {
   "cell_type": "code",
   "execution_count": 2,
   "metadata": {},
   "outputs": [],
   "source": [
    "import cv2\n",
    "import numpy as np\n",
    "import os"
   ]
  },
  {
   "cell_type": "code",
   "execution_count": 4,
   "metadata": {},
   "outputs": [],
   "source": [
    "# data_dir = 'Enter the path to your original directory here'\n",
    "# new_data_dir = 'Enter the path to your destination directory here'\n",
    "\n",
    "data_dir = 'D:\\Concordia\\COMP473\\\\files\\FER_2013_DataSet\\Test3'\n",
    "new_data_dir = 'D:\\Concordia\\COMP473\\\\files\\FER_2013_DataSet\\Test_IN3'\n",
    "\n",
    "for image_class in os.listdir(data_dir):\n",
    "        for image in os.listdir(os.path.join(data_dir, image_class)):\n",
    "            \n",
    "            image_name = image\n",
    "            image_path = os.path.join(data_dir, image_class, image_name)\n",
    "\n",
    "            #load image as grayscale\n",
    "            img = cv2.imread(image_path, 0)\n",
    "            \n",
    "            # Calculate mean and STD\n",
    "            mean, STD  = cv2.meanStdDev(img)\n",
    "\n",
    "            # Clip frame to lower and upper Standard Deviation\n",
    "            offset = 0.3\n",
    "            clipped = np.clip(img, mean - offset*STD, mean + offset*STD).astype('uint8')\n",
    "\n",
    "            # Normalize to range\n",
    "            result = cv2.normalize(clipped, clipped, 0, 255, norm_type=cv2.NORM_MINMAX)\n",
    "\n",
    "            #check if there is a directory for the emotion category, if not create one\n",
    "            if not os.path.isdir(os.path.join(new_data_dir, image_class)):\n",
    "                    os.mkdir(os.path.join(new_data_dir, image_class))\n",
    "                \n",
    "            cv2.imwrite(os.path.join(new_data_dir, image_class , image_name), result)\n"
   ]
  }
 ],
 "metadata": {
  "kernelspec": {
   "display_name": "Python 3.10.0 64-bit",
   "language": "python",
   "name": "python3"
  },
  "language_info": {
   "codemirror_mode": {
    "name": "ipython",
    "version": 3
   },
   "file_extension": ".py",
   "mimetype": "text/x-python",
   "name": "python",
   "nbconvert_exporter": "python",
   "pygments_lexer": "ipython3",
   "version": "3.10.0"
  },
  "orig_nbformat": 4,
  "vscode": {
   "interpreter": {
    "hash": "41a25e4fc04ae1ac97e89ed19feb20c86178bc3aba5c26b45b17fff7270b24df"
   }
  }
 },
 "nbformat": 4,
 "nbformat_minor": 2
}
