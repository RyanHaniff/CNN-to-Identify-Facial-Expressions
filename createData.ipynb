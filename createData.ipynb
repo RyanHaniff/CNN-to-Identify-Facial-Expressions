{
 "cells": [
  {
   "cell_type": "code",
   "execution_count": 1,
   "metadata": {},
   "outputs": [],
   "source": [
    "import cv2\n",
    "import imutils\n",
    "import os\n",
    "import math"
   ]
  },
  {
   "cell_type": "markdown",
   "metadata": {},
   "source": [
    "### Create additional data with rotation\n",
    "Rotation range: 350º, 355º, 0º, 5º, 10º\n",
    "\n",
    "<br> Replace <i>path</i> variable with the path to the original directory where the image data are fetched\n",
    "<br> Replace <i>newpath</i> variable with the path to the new directory where the rotated image data will be saved"
   ]
  },
  {
   "cell_type": "code",
   "execution_count": 6,
   "metadata": {},
   "outputs": [
    {
     "ename": "FileNotFoundError",
     "evalue": "[WinError 3] The system cannot find the path specified: 'D:\\\\Concordia\\\\COMP473\\\\COMP_473_Project\\\\TrainSet1\\\\surprise'",
     "output_type": "error",
     "traceback": [
      "\u001B[1;31m---------------------------------------------------------------------------\u001B[0m",
      "\u001B[1;31mFileNotFoundError\u001B[0m                         Traceback (most recent call last)",
      "Cell \u001B[1;32mIn [6], line 4\u001B[0m\n\u001B[0;32m      2\u001B[0m path \u001B[38;5;241m=\u001B[39m \u001B[38;5;124m\"\u001B[39m\u001B[38;5;124mD:\u001B[39m\u001B[38;5;124m\\\u001B[39m\u001B[38;5;124mConcordia\u001B[39m\u001B[38;5;124m\\\u001B[39m\u001B[38;5;124mCOMP473\u001B[39m\u001B[38;5;124m\\\u001B[39m\u001B[38;5;124mCOMP_473_Project\u001B[39m\u001B[38;5;124m\\\u001B[39m\u001B[38;5;124mTrainSet1\u001B[39m\u001B[38;5;130;01m\\\\\u001B[39;00m\u001B[38;5;124msurprise\u001B[39m\u001B[38;5;124m\"\u001B[39m\n\u001B[0;32m      3\u001B[0m newpath \u001B[38;5;241m=\u001B[39m \u001B[38;5;124m\"\u001B[39m\u001B[38;5;124mD:\u001B[39m\u001B[38;5;124m\\\u001B[39m\u001B[38;5;124mConcordia\u001B[39m\u001B[38;5;124m\\\u001B[39m\u001B[38;5;124mCOMP473\u001B[39m\u001B[38;5;124m\\\u001B[39m\u001B[38;5;124mCOMP_473_Project\u001B[39m\u001B[38;5;124m\\\u001B[39m\u001B[38;5;124mTrainSet1-new\u001B[39m\u001B[38;5;130;01m\\\\\u001B[39;00m\u001B[38;5;124msurprise\u001B[39m\u001B[38;5;124m\"\u001B[39m\n\u001B[1;32m----> 4\u001B[0m imgfiles \u001B[38;5;241m=\u001B[39m \u001B[43mos\u001B[49m\u001B[38;5;241;43m.\u001B[39;49m\u001B[43mlistdir\u001B[49m\u001B[43m(\u001B[49m\u001B[43mpath\u001B[49m\u001B[43m)\u001B[49m\n\u001B[0;32m      6\u001B[0m \u001B[38;5;66;03m#rotation\u001B[39;00m\n\u001B[0;32m      8\u001B[0m rot_angle \u001B[38;5;241m=\u001B[39m [\u001B[38;5;241m-\u001B[39m\u001B[38;5;241m10\u001B[39m, \u001B[38;5;241m-\u001B[39m\u001B[38;5;241m5\u001B[39m, \u001B[38;5;241m0\u001B[39m, \u001B[38;5;241m5\u001B[39m, \u001B[38;5;241m10\u001B[39m]\n",
      "\u001B[1;31mFileNotFoundError\u001B[0m: [WinError 3] The system cannot find the path specified: 'D:\\\\Concordia\\\\COMP473\\\\COMP_473_Project\\\\TrainSet1\\\\surprise'"
     ]
    }
   ],
   "source": [
    "#the original directory has been compressed into original_dataset.zip\n",
    "path = \"D:\\Concordia\\COMP473\\COMP_473_Project\\TrainSet1\\\\surprise\"\n",
    "newpath = \"D:\\Concordia\\COMP473\\COMP_473_Project\\TrainSet1-new\\\\surprise\"\n",
    "imgfiles = os.listdir(path)\n",
    "\n",
    "#rotation\n",
    "\n",
    "rot_angle = [-10, -5, 0, 5, 10]\n",
    "result = []\n",
    "for file in imgfiles:\n",
    "    img = cv2.imread(path + \"\\\\\" + file)\n",
    "    for a in rot_angle:\n",
    "        imgr = imutils.rotate(img, angle=a)\n",
    "        result += [imgr]\n",
    "# print(len(result)2\n",
    "count = 0\n",
    "for j in range(len(result)):\n",
    "    img = result[j]\n",
    "    i = math.floor(j / 5)\n",
    "    x = imgfiles[i].split(\".\")\n",
    "    k = (j - (i * 5))\n",
    "    if k == 0:\n",
    "        newName = x[0] + 'n1' + '.png'\n",
    "    elif k == 1:\n",
    "        newName = x[0] + 'n2' + '.png'\n",
    "    elif k == 2:\n",
    "        newName = x[0] + 'n3' + '.png'\n",
    "    elif k == 3:\n",
    "        newName = x[0] + 'n4' + '.png'\n",
    "    elif k == 4:\n",
    "        newName = x[0] + 'n5' + '.png'\n",
    "    cv2.imwrite(os.path.join(newpath, newName), img)\n"
   ]
  },
  {
   "cell_type": "markdown",
   "source": [
    "### Rotation Correction"
   ],
   "metadata": {
    "collapsed": false
   }
  },
  {
   "cell_type": "code",
   "execution_count": 3,
   "outputs": [],
   "source": [
    "image = cv2.imread(\"C:\\\\Users\\\\rhani\\\\Documents\\\\GitHub\\\\COMP_473_Project\\\\oritinal_dataset\\\\TestSet1\\\\anger\\\\S126_008_00000027.png\")\n",
    "cv2.imshow('image',image)\n",
    "# eye_cascade = cv2.CascadeClassifier('haarcascade_eye.xml')\n",
    "# eyes = eye_cascade.detectMultiScale(image, scaleFactor=1.2, minNeighbors=4)\n",
    "#\n",
    "# for (x, y, w, h) in eyes:\n",
    "#     cv2.rectangle(image, (x, y), (x + w, y + h), (0, 255, 0), 5)\n",
    "#\n",
    "# cv2.imshow(\"Eye Detected\", image)\n",
    "# cv2.waitKey(0)\n",
    "# cv2.destroyAllWindows()"
   ],
   "metadata": {
    "collapsed": false
   }
  },
  {
   "cell_type": "markdown",
   "metadata": {},
   "source": [
    "### Cropped images dataset"
   ]
  },
  {
   "cell_type": "code",
   "execution_count": 21,
   "metadata": {},
   "outputs": [],
   "source": [
    "#the original directory has been compressed into original_dataset.zip\n",
    "path = \"/Users/mantagaori/Desktop/comp473/COMP_473_Project/TrainSet2-new/anger\"\n",
    "newpath = \"/Users/mantagaori/Desktop/comp473/COMP_473_Project/TrainSet2-crop/anger\"\n",
    "imgfiles = os.listdir(path)\n",
    "\n",
    "for file in imgfiles:\n",
    "    img = cv2.imread(path + \"/\" + file)\n",
    "    imgc = img[10:45, 10:38]\n",
    "    cv2.imwrite(os.path.join(newpath, file), imgc)"
   ]
  },
  {
   "cell_type": "code",
   "execution_count": 22,
   "metadata": {},
   "outputs": [],
   "source": [
    "#the original directory has been compressed into original_dataset.zip\n",
    "path = \"/Users/mantagaori/Desktop/comp473/COMP_473_Project/TrainSet2-new/disgust\"\n",
    "newpath = \"/Users/mantagaori/Desktop/comp473/COMP_473_Project/TrainSet2-crop/disgust\"\n",
    "imgfiles = os.listdir(path)\n",
    "\n",
    "for file in imgfiles:\n",
    "    img = cv2.imread(path + \"/\" + file)\n",
    "    imgc = img[10:45, 10:38]\n",
    "    cv2.imwrite(os.path.join(newpath, file), imgc)"
   ]
  },
  {
   "cell_type": "code",
   "execution_count": 20,
   "metadata": {},
   "outputs": [],
   "source": [
    "#the original directory has been compressed into original_dataset.zip\n",
    "path = \"/Users/mantagaori/Desktop/comp473/COMP_473_Project/TrainSet2-new/happy\"\n",
    "newpath = \"/Users/mantagaori/Desktop/comp473/COMP_473_Project/TrainSet2-crop/happy\"\n",
    "imgfiles = os.listdir(path)\n",
    "\n",
    "for file in imgfiles:\n",
    "    img = cv2.imread(path + \"/\" + file)\n",
    "    imgc = img[10:45, 10:38]\n",
    "    cv2.imwrite(os.path.join(newpath, file), imgc)"
   ]
  },
  {
   "cell_type": "code",
   "execution_count": 19,
   "metadata": {},
   "outputs": [],
   "source": [
    "#the original directory has been compressed into original_dataset.zip\n",
    "path = \"/Users/mantagaori/Desktop/comp473/COMP_473_Project/TrainSet2-new/fear\"\n",
    "newpath = \"/Users/mantagaori/Desktop/comp473/COMP_473_Project/TrainSet2-crop/fear\"\n",
    "imgfiles = os.listdir(path)\n",
    "\n",
    "for file in imgfiles:\n",
    "    img = cv2.imread(path + \"/\" + file)\n",
    "    imgc = img[10:45, 10:38]\n",
    "    cv2.imwrite(os.path.join(newpath, file), imgc)"
   ]
  },
  {
   "cell_type": "code",
   "execution_count": 18,
   "metadata": {},
   "outputs": [],
   "source": [
    "#the original directory has been compressed into original_dataset.zip\n",
    "path = \"/Users/mantagaori/Desktop/comp473/COMP_473_Project/TrainSet2-new/contempt\"\n",
    "newpath = \"/Users/mantagaori/Desktop/comp473/COMP_473_Project/TrainSet2-crop/contempt\"\n",
    "imgfiles = os.listdir(path)\n",
    "\n",
    "for file in imgfiles:\n",
    "    img = cv2.imread(path + \"/\" + file)\n",
    "    imgc = img[10:45, 10:38]\n",
    "    cv2.imwrite(os.path.join(newpath, file), imgc)"
   ]
  },
  {
   "cell_type": "code",
   "execution_count": 16,
   "metadata": {},
   "outputs": [],
   "source": [
    "#the original directory has been compressed into original_dataset.zip\n",
    "path = \"/Users/mantagaori/Desktop/comp473/COMP_473_Project/TrainSet2-new/sadness\"\n",
    "newpath = \"/Users/mantagaori/Desktop/comp473/COMP_473_Project/TrainSet2-crop/sadness\"\n",
    "imgfiles = os.listdir(path)\n",
    "\n",
    "for file in imgfiles:\n",
    "    img = cv2.imread(path + \"/\" + file)\n",
    "    imgc = img[10:45, 10:38]\n",
    "    cv2.imwrite(os.path.join(newpath, file), imgc)"
   ]
  },
  {
   "cell_type": "code",
   "execution_count": 14,
   "metadata": {},
   "outputs": [],
   "source": [
    "#the original directory has been compressed into original_dataset.zip\n",
    "path = \"/Users/mantagaori/Desktop/comp473/COMP_473_Project/TrainSet2-new/surprise\"\n",
    "newpath = \"/Users/mantagaori/Desktop/comp473/COMP_473_Project/TrainSet2-crop/surprise\"\n",
    "imgfiles = os.listdir(path)\n",
    "\n",
    "for file in imgfiles:\n",
    "    img = cv2.imread(path + \"/\" + file)\n",
    "    imgc = img[10:45, 10:38]\n",
    "    cv2.imwrite(os.path.join(newpath, file), imgc)"
   ]
  }
 ],
 "metadata": {
  "kernelspec": {
   "display_name": "Python 3.7.6 ('base')",
   "language": "python",
   "name": "python3"
  },
  "language_info": {
   "codemirror_mode": {
    "name": "ipython",
    "version": 3
   },
   "file_extension": ".py",
   "mimetype": "text/x-python",
   "name": "python",
   "nbconvert_exporter": "python",
   "pygments_lexer": "ipython3",
   "version": "3.7.6"
  },
  "orig_nbformat": 4,
  "vscode": {
   "interpreter": {
    "hash": "96762580dc771c728ac9a1b8aa29a3a420bc09545a8c1a32553175fbb1f6eb2a"
   }
  }
 },
 "nbformat": 4,
 "nbformat_minor": 2
}
