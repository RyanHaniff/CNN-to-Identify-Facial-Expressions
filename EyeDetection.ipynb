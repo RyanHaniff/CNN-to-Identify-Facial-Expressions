{
 "cells": [
  {
   "cell_type": "code",
   "execution_count": 1,
   "metadata": {
    "collapsed": true
   },
   "outputs": [],
   "source": [
    "import cv2\n",
    "from cv2 import dnn_superres"
   ]
  },
  {
   "cell_type": "code",
   "execution_count": 5,
   "outputs": [
    {
     "name": "stdout",
     "output_type": "stream",
     "text": [
      "Original Dimensions :  (48, 48, 3)\n"
     ]
    }
   ],
   "source": [
    "# Create an SR object\n",
    "sr = dnn_superres.DnnSuperResImpl_create()\n",
    "\n",
    "image = cv2.imread('TestSet1-new/anger/S126_008_00000028n1.png', cv2.IMREAD_UNCHANGED)\n",
    "# image = cv2.imread('test_image.jpg')\n",
    "print('Original Dimensions : ', image.shape)\n",
    "\n",
    "# Read the desired model\n",
    "path = \"LapSRN_x4.pb\"\n",
    "sr.readModel(path)\n",
    "\n",
    "# Set the desired model and scale to get correct pre- and post-processing\n",
    "sr.setModel(\"lapsrn\", 4)\n",
    "\n",
    "# Upscale the image\n",
    "result = sr.upsample(image)\n",
    "\n",
    "# Save the image\n",
    "cv2.imwrite(\"./upscaled.png\", result)\n",
    "\n",
    "image = cv2.imread(\"./upscaled.png\", cv2.IMREAD_UNCHANGED)\n",
    "\n",
    "\n",
    "face_cascade = cv2.CascadeClassifier(\"haarcascade_frontalface_default.xml\")\n",
    "eye_cascade = cv2.CascadeClassifier('haarcascade_eye_tree_eyeglasses.xml')\n",
    "\n",
    "# # Scale the image up\n",
    "# scale_percent = 500  # percent of original size\n",
    "# width = int(image.shape[1] * scale_percent / 100)\n",
    "# height = int(image.shape[0] * scale_percent / 100)\n",
    "# dim = (width, height)\n",
    "#\n",
    "# # resize image\n",
    "# image = cv2.resize(image, dim, interpolation=cv2.INTER_AREA)\n",
    "# print('Resized Dimensions : ', image.shape)\n",
    "\n",
    "# cv2.imshow(\"Resized image\", image)\n",
    "# cv2.waitKey(0)\n",
    "# cv2.destroyAllWindows()\n",
    "\n",
    "faces = face_cascade.detectMultiScale(image, 1.3, 5)\n",
    "\n",
    "# Pass in the image\n",
    "# scale factor: how much the image is reduced\n",
    "# minNeighbours: how many the candidate rectangle should have\n",
    "eyes = eye_cascade.detectMultiScale(image, scaleFactor=100, minNeighbors=10)\n",
    "\n",
    "roi_color = None\n",
    "roi_gray = None\n",
    "\n",
    "for (x, y, w, h) in faces:\n",
    "    # To draw a rectangle in a face\n",
    "    cv2.rectangle(image, (x, y), (x + w, y + h), (255, 255, 0), 2)\n",
    "    roi_gray = image[y:y + h, x:x + w]\n",
    "    roi_color = image[y:y + h, x:x + w]\n",
    "\n",
    "# Detects eyes of different sizes in the input image\n",
    "eyes = eye_cascade.detectMultiScale(roi_gray)\n",
    "\n",
    "for (ex, ey, ew, eh) in eyes:\n",
    "    # This will draw a rectangle in the image where the eyes are located\n",
    "    # (255, 0, 0) is the color of rectangle\n",
    "    # 5 is the line thickness\n",
    "    cv2.rectangle(roi_gray, (ex, ey), (ex + ew, ey + eh), (255, 0, 0), 2)\n",
    "\n",
    "cv2.imshow(\"Eye Detected\", image)\n",
    "\n",
    "cv2.waitKey()\n",
    "cv2.destroyAllWindows()"
   ],
   "metadata": {
    "collapsed": false
   }
  },
  {
   "cell_type": "code",
   "execution_count": 2,
   "outputs": [],
   "source": [],
   "metadata": {
    "collapsed": false
   }
  }
 ],
 "metadata": {
  "kernelspec": {
   "display_name": "Python 3",
   "language": "python",
   "name": "python3"
  },
  "language_info": {
   "codemirror_mode": {
    "name": "ipython",
    "version": 2
   },
   "file_extension": ".py",
   "mimetype": "text/x-python",
   "name": "python",
   "nbconvert_exporter": "python",
   "pygments_lexer": "ipython2",
   "version": "2.7.6"
  }
 },
 "nbformat": 4,
 "nbformat_minor": 0
}
