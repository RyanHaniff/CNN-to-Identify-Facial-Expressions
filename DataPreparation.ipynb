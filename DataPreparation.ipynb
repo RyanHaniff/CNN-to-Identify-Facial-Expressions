{
 "cells": [
  {
   "cell_type": "markdown",
   "metadata": {},
   "source": [
    "### Dataset Preparation and Image Pre-Processing\n",
    "\n",
    "#### Preparing dataset for cross-validation\n",
    "3 Different Datasets for Cross-Validation:\n",
    "<br>Each dataset contains different set of images in training and testing for cross-validtion purposes\n",
    "<br>The ratio of the split is the same for all datasets\n",
    "<br>\n",
    "<br>\n",
    "Data split:\n",
    "<li> 80% of total data as Training set (64% of total as Training and 16% as Validation set)\n",
    "<li> 20% of total data as Testing set\n",
    "\n",
    "\n"
   ]
  },
  {
   "cell_type": "code",
   "execution_count": 1,
   "metadata": {},
   "outputs": [],
   "source": [
    "#import necessary libraries\n",
    "import splitfolders\n",
    "import random"
   ]
  },
  {
   "cell_type": "code",
   "execution_count": 4,
   "metadata": {},
   "outputs": [
    {
     "name": "stderr",
     "output_type": "stream",
     "text": [
      "Copying files: 35887 files [00:51, 693.91 files/s] \n",
      "Copying files: 35887 files [00:39, 918.56 files/s] \n",
      "Copying files: 35887 files [00:38, 924.87 files/s] \n"
     ]
    }
   ],
   "source": [
    "# Split with a ratio of (.64, .16, .2) for training, validation, and test sets\n",
    "# Seed is determined randomly to ensure each dataset contains different collection of images in test sets\n",
    "# Destination directory name is FER_2013_Augmented, because the data augmentation will be done directly to each datasets later\n",
    "\n",
    "# change the path names in the following line of code to split and save data\n",
    "#splitfolders.ratio('Path of the Original Directory', output='Path of Destination Directory', \n",
    "#                   seed=random.seed(10), ratio=(.64, .16, .20), group_prefix=None, move=False) \n",
    "\n",
    "#Dataset 1\n",
    "splitfolders.ratio('D:\\Concordia\\COMP473\\COMP_473_Project\\FER_2013_DataSet\\FER_2013_Original', output='D:\\Concordia\\COMP473\\COMP_473_Project\\FER_2013_DataSet\\FER_2013_Agumented1',\n",
    "                   seed=random.seed(10), ratio=(.64, .16, .20), group_prefix=None, move=False) \n",
    "\n",
    "#Dataset 2\n",
    "splitfolders.ratio('D:\\Concordia\\COMP473\\COMP_473_Project\\FER_2013_DataSet\\FER_2013_Original', output='D:\\Concordia\\COMP473\\COMP_473_Project\\FER_2013_DataSet\\FER_2013_Agumented2',\n",
    "                   seed=random.seed(10), ratio=(.64, .16, .20), group_prefix=None, move=False) \n",
    "\n",
    "#Dataset 3\n",
    "splitfolders.ratio('D:\\Concordia\\COMP473\\COMP_473_Project\\FER_2013_DataSet\\FER_2013_Original', output='D:\\Concordia\\COMP473\\COMP_473_Project\\FER_2013_DataSet\\FER_2013_Agumented3',\n",
    "                   seed=random.seed(10), ratio=(.64, .16, .20), group_prefix=None, move=False) "
   ]
  },
  {
   "cell_type": "markdown",
   "metadata": {},
   "source": [
    "#### Data Augmentation\n",
    "\n",
    "Rotate each image to angles between -80° and 80° to create 12 additional images."
   ]
  },
  {
   "cell_type": "code",
   "execution_count": 6,
   "metadata": {},
   "outputs": [],
   "source": [
    "import cv2\n",
    "import imutils\n",
    "import os\n",
    "import math"
   ]
  },
  {
   "cell_type": "code",
   "execution_count": 58,
   "metadata": {},
   "outputs": [
    {
     "name": "stdout",
     "output_type": "stream",
     "text": [
      "801\n",
      "9612\n"
     ]
    }
   ],
   "source": [
    "# change the path to the directory where the augmented data is retrieved and saved\n",
    "\n",
    "path = \"D:\\Concordia\\COMP473\\COMP_473_Project\\FER_2013_DataSet\\FER_2013_Agumented3\\\\test\\\\surprise\"\n",
    "\n",
    "imgfiles = os.listdir(path)\n",
    "\n",
    "# rotating images from -80 to 80 degree from the original position\n",
    "rot_angle = [-80, -65, -50, -35, -20, -5, 5, 20, 35, 50, 65, 80]\n",
    "result = []\n",
    "for file in imgfiles:\n",
    "    img = cv2.imread(path+\"\\\\\"+file)\n",
    "    for a in rot_angle:\n",
    "        imgr = imutils.rotate(img, angle=a)\n",
    "        result+=[imgr]\n",
    "\n",
    "# to ensure the augmentation is done properly\n",
    "print(len(imgfiles))\n",
    "print(len(result))\n",
    "\n",
    "for j in range(len(result)):\n",
    "    img = result[j]\n",
    "    i = math.floor(j/12)\n",
    "    x = imgfiles[i].split(\".\")\n",
    "    k = (j-(i*12))\n",
    "    if k == 0:\n",
    "        newName = x[0] + 'n0'+'.png'\n",
    "    elif k == 1:\n",
    "        newName = x[0] + 'n1'+'.png'\n",
    "    elif k == 2:\n",
    "        newName = x[0] + 'n2'+'.png'\n",
    "    elif k == 3:\n",
    "        newName = x[0] + 'n3'+'.png'\n",
    "    elif k == 4:\n",
    "        newName = x[0] + 'n4'+'.png'\n",
    "    elif k == 5:\n",
    "        newName = x[0] + 'n5'+'.png'\n",
    "    elif k == 6:\n",
    "        newName = x[0] + 'n6'+'.png'\n",
    "    elif k == 7:\n",
    "        newName = x[0] + 'n7'+'.png'\n",
    "    elif k == 8:\n",
    "        newName = x[0] + 'n8'+'.png'\n",
    "    elif k == 9:\n",
    "        newName = x[0] + 'n9'+'.png'\n",
    "    elif k == 10:\n",
    "        newName = x[0] + 'n10'+'.png'\n",
    "    elif k == 11:\n",
    "        newName = x[0] + 'n11'+'.png'\n",
    "    cv2.imwrite(os.path.join(path , newName), img)"
   ]
  }
 ],
 "metadata": {
  "kernelspec": {
   "display_name": "Python 3.10.0 64-bit",
   "language": "python",
   "name": "python3"
  },
  "language_info": {
   "codemirror_mode": {
    "name": "ipython",
    "version": 3
   },
   "file_extension": ".py",
   "mimetype": "text/x-python",
   "name": "python",
   "nbconvert_exporter": "python",
   "pygments_lexer": "ipython3",
   "version": "3.10.0"
  },
  "orig_nbformat": 4,
  "vscode": {
   "interpreter": {
    "hash": "41a25e4fc04ae1ac97e89ed19feb20c86178bc3aba5c26b45b17fff7270b24df"
   }
  }
 },
 "nbformat": 4,
 "nbformat_minor": 2
}
