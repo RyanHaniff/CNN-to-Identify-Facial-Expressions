{
 "cells": [
  {
   "cell_type": "markdown",
   "metadata": {},
   "source": [
    "#### Libraries"
   ]
  },
  {
   "cell_type": "code",
   "execution_count": 2,
   "metadata": {},
   "outputs": [],
   "source": [
    "# Importing all necessary libraries\n",
    "from keras.preprocessing.image import ImageDataGenerator\n",
    "from keras.models import Sequential\n",
    "from keras.layers import Conv2D, MaxPooling2D\n",
    "from keras.layers import Activation, Dropout, Flatten, Dense\n",
    "from keras import backend as K\n",
    "import tensorflow as tf\n",
    "import os"
   ]
  },
  {
   "cell_type": "markdown",
   "source": [
    "### Load the data"
   ],
   "metadata": {
    "collapsed": false
   }
  },
  {
   "cell_type": "code",
   "execution_count": 3,
   "outputs": [],
   "source": [
    "import numpy as np\n",
    "from matplotlib import pyplot as plt\n"
   ],
   "metadata": {
    "collapsed": false
   }
  },
  {
   "cell_type": "code",
   "execution_count": null,
   "outputs": [],
   "source": [
    "data = tf.keras.utils.image_dataset_from_directory('data')"
   ],
   "metadata": {
    "collapsed": false
   }
  },
  {
   "cell_type": "markdown",
   "metadata": {},
   "source": [
    "### No Pre-Processing Classifier"
   ]
  },
  {
   "cell_type": "code",
   "execution_count": null,
   "metadata": {},
   "outputs": [],
   "source": [
    "img_w, img_h = 48, 48\n",
    "\n",
    "train_data_dir = '../COMP_473_Project/TrainSet'\n",
    "test_data_dir = '../COMP_473_Project/TestSet'\n",
    "nb_train_samples = 700\n",
    "nb_validation_samples = 295\n",
    "epochs = 100\n",
    "batch_size = 10\n",
    "\n"
   ]
  },
  {
   "cell_type": "markdown",
   "metadata": {},
   "source": [
    "### Testing with openCV"
   ]
  },
  {
   "cell_type": "code",
   "execution_count": null,
   "metadata": {},
   "outputs": [],
   "source": [
    "import cv2\n",
    "import imutils\n",
    "\n",
    "#rotation\n",
    "img = cv2.imread(\"/Users/mantagaori/Desktop/comp473/A3/S010_006_00000013.png\")\n",
    "result = []\n",
    "rot_angle = [-10, -5, 0, 5, 10]\n",
    "for a in rot_angle:\n",
    "    imgr = imutils.rotate(img, angle=a)\n",
    "    result+=[imgr]\n",
    "# for i in range(len(result)):\n",
    "#     print(\"new image ****\")\n",
    "#     print(result[i][28][5:9])\n",
    "for r in result:\n",
    "    cv2.imshow(\"rotate test\", r)\n",
    "    cv2.waitKey()\n",
    "\n",
    "#rerotate\n",
    "angles = [10, 5, 0, -5, -10]\n",
    "resultu = []\n",
    "for i in range(len(result)):\n",
    "    imgr = imutils.rotate(result[i], angle=angles[i])\n",
    "    resultu+=[imgr]\n",
    "\n",
    "for i in range(len(result)):\n",
    "    print(\"oritianl***\")\n",
    "    print(img[28][5:9])\n",
    "    print(\"new image ****\")\n",
    "    print(result[i][28][5:9])\n",
    "    print(\"re-rotated image ****\")\n",
    "    print(resultu[i][28][5:9])\n",
    "\n",
    "# Cropping an image\n",
    "result2 = []\n",
    "for r in result:\n",
    "    imgc = r[10:48, 10:38]\n",
    "    result2 += [imgc]\n",
    "\n",
    "for r in result2:\n",
    "    cv2.imshow(\"crop\", r)\n",
    "    cv2.waitKey()\n",
    "\n",
    "\n",
    "#intensity normalization -> Histogram equalization\n",
    "result3 = []\n",
    "for r in result:\n",
    "    R, G, B = cv2.split(r)\n",
    "    output1_R = cv2.equalizeHist(R)\n",
    "    output1_G = cv2.equalizeHist(G)\n",
    "    output1_B = cv2.equalizeHist(B)\n",
    "    equ = cv2.merge((output1_R, output1_G, output1_B))\n",
    "    result3 += [equ]\n",
    "\n",
    "\n",
    "for r in result3:\n",
    "    cv2.imshow('Normalized Image', r)\n",
    "    cv2.waitKey()\n",
    "\n"
   ]
  }
 ],
 "metadata": {
  "kernelspec": {
   "display_name": "Python 3.10.0 64-bit",
   "language": "python",
   "name": "python3"
  },
  "language_info": {
   "codemirror_mode": {
    "name": "ipython",
    "version": 3
   },
   "file_extension": ".py",
   "mimetype": "text/x-python",
   "name": "python",
   "nbconvert_exporter": "python",
   "pygments_lexer": "ipython3",
   "version": "3.10.0"
  },
  "orig_nbformat": 4,
  "vscode": {
   "interpreter": {
    "hash": "41a25e4fc04ae1ac97e89ed19feb20c86178bc3aba5c26b45b17fff7270b24df"
   }
  }
 },
 "nbformat": 4,
 "nbformat_minor": 2
}
